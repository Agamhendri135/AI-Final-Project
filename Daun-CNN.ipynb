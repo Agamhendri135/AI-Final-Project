{
  "cells": [
    {
      "cell_type": "markdown",
      "metadata": {
        "id": "r2_2I9zkMOBa"
      },
      "source": [
        "<h3>1. Import module yang dibutuhkan</h3>"
      ]
    },
    {
      "cell_type": "code",
      "execution_count": 1,
      "metadata": {
        "id": "rUDU_dTYMOBc"
      },
      "outputs": [],
      "source": [
        "from sklearn.model_selection import train_test_split\n",
        "from sklearn.preprocessing import LabelEncoder\n",
        "from sklearn.metrics import classification_report\n",
        "from tensorflow.keras.models import Sequential\n",
        "from tensorflow.keras.layers import InputLayer, Flatten, Dense, Conv2D, MaxPool2D, Dropout\n",
        "from tensorflow.keras.optimizers import Adam\n",
        "import numpy as np\n",
        "import cv2\n",
        "import glob\n",
        "import matplotlib.pyplot as plt"
      ]
    },
    {
      "cell_type": "code",
      "source": [
        "from google.colab import drive # untuk menghubungkan ke dalam drive \n",
        "drive.mount('/content/drive')"
      ],
      "metadata": {
        "colab": {
          "base_uri": "https://localhost:8080/"
        },
        "id": "vjZXGjfAMUQW",
        "outputId": "2bcfa445-f5fb-4ada-d760-bd52c2bc4269"
      },
      "execution_count": 2,
      "outputs": [
        {
          "output_type": "stream",
          "name": "stdout",
          "text": [
            "Mounted at /content/drive\n"
          ]
        }
      ]
    },
    {
      "cell_type": "markdown",
      "metadata": {
        "id": "PUsgtbpCMOBd"
      },
      "source": [
        "<h3>2. Load Dataset</h3>"
      ]
    },
    {
      "cell_type": "code",
      "execution_count": 3,
      "metadata": {
        "id": "pmKlNrG8MOBe"
      },
      "outputs": [],
      "source": [
        "imagePaths = 'drive/MyDrive/'\n",
        "label_list = ['Jambu Biji', 'Sirih']\n",
        "data = []\n",
        "labels = []"
      ]
    },
    {
      "cell_type": "code",
      "execution_count": 4,
      "metadata": {
        "id": "NYODrwJoMOBe"
      },
      "outputs": [],
      "source": [
        "for label in label_list:\n",
        "    for imagePath in glob.glob(imagePaths+label+'//*.jpeg'):\n",
        "        #print(imagePath)\n",
        "        image = cv2.imread(imagePath)\n",
        "        image = cv2.resize(image, (32, 32))\n",
        "        data.append(image)\n",
        "        labels.append(label)"
      ]
    },
    {
      "cell_type": "code",
      "execution_count": 5,
      "metadata": {
        "colab": {
          "base_uri": "https://localhost:8080/"
        },
        "id": "1KIQcJlhMOBg",
        "outputId": "0bd6adb3-95d3-405c-d910-67d1ee22faed"
      },
      "outputs": [
        {
          "output_type": "execute_result",
          "data": {
            "text/plain": [
              "(100, 32, 32, 3)"
            ]
          },
          "metadata": {},
          "execution_count": 5
        }
      ],
      "source": [
        "np.array(data).shape"
      ]
    },
    {
      "cell_type": "markdown",
      "metadata": {
        "id": "ysr1A---MOBh"
      },
      "source": [
        "<h3>3. Data Preprocessing</h3>"
      ]
    },
    {
      "cell_type": "code",
      "execution_count": 6,
      "metadata": {
        "id": "dxao68RgMOBh"
      },
      "outputs": [],
      "source": [
        "# ubah type data dari list menjadi array\n",
        "# ubah nilai dari tiap pixel menjadi range [0..1]\n",
        "data = np.array(data, dtype='float') / 255.0\n",
        "labels = np.array(labels)"
      ]
    },
    {
      "cell_type": "code",
      "execution_count": 7,
      "metadata": {
        "colab": {
          "base_uri": "https://localhost:8080/"
        },
        "id": "lcD-1HtEMOBh",
        "outputId": "5f301a57-d0e7-4bc7-d098-94dda5825728"
      },
      "outputs": [
        {
          "output_type": "stream",
          "name": "stdout",
          "text": [
            "['Jambu Biji' 'Jambu Biji' 'Jambu Biji' 'Jambu Biji' 'Jambu Biji'\n",
            " 'Jambu Biji' 'Jambu Biji' 'Jambu Biji' 'Jambu Biji' 'Jambu Biji'\n",
            " 'Jambu Biji' 'Jambu Biji' 'Jambu Biji' 'Jambu Biji' 'Jambu Biji'\n",
            " 'Jambu Biji' 'Jambu Biji' 'Jambu Biji' 'Jambu Biji' 'Jambu Biji'\n",
            " 'Jambu Biji' 'Jambu Biji' 'Jambu Biji' 'Jambu Biji' 'Jambu Biji'\n",
            " 'Jambu Biji' 'Jambu Biji' 'Jambu Biji' 'Jambu Biji' 'Jambu Biji'\n",
            " 'Jambu Biji' 'Jambu Biji' 'Jambu Biji' 'Jambu Biji' 'Jambu Biji'\n",
            " 'Jambu Biji' 'Jambu Biji' 'Jambu Biji' 'Jambu Biji' 'Jambu Biji'\n",
            " 'Jambu Biji' 'Jambu Biji' 'Jambu Biji' 'Jambu Biji' 'Jambu Biji'\n",
            " 'Jambu Biji' 'Jambu Biji' 'Jambu Biji' 'Jambu Biji' 'Jambu Biji' 'Sirih'\n",
            " 'Sirih' 'Sirih' 'Sirih' 'Sirih' 'Sirih' 'Sirih' 'Sirih' 'Sirih' 'Sirih'\n",
            " 'Sirih' 'Sirih' 'Sirih' 'Sirih' 'Sirih' 'Sirih' 'Sirih' 'Sirih' 'Sirih'\n",
            " 'Sirih' 'Sirih' 'Sirih' 'Sirih' 'Sirih' 'Sirih' 'Sirih' 'Sirih' 'Sirih'\n",
            " 'Sirih' 'Sirih' 'Sirih' 'Sirih' 'Sirih' 'Sirih' 'Sirih' 'Sirih' 'Sirih'\n",
            " 'Sirih' 'Sirih' 'Sirih' 'Sirih' 'Sirih' 'Sirih' 'Sirih' 'Sirih' 'Sirih'\n",
            " 'Sirih' 'Sirih' 'Sirih' 'Sirih']\n"
          ]
        }
      ],
      "source": [
        "print(labels)"
      ]
    },
    {
      "cell_type": "code",
      "execution_count": 8,
      "metadata": {
        "colab": {
          "base_uri": "https://localhost:8080/"
        },
        "id": "5iQHRdcqMOBi",
        "outputId": "491db7fc-d4d7-47ef-aac3-b6d0633cd9ab"
      },
      "outputs": [
        {
          "output_type": "stream",
          "name": "stdout",
          "text": [
            "[0 0 0 0 0 0 0 0 0 0 0 0 0 0 0 0 0 0 0 0 0 0 0 0 0 0 0 0 0 0 0 0 0 0 0 0 0\n",
            " 0 0 0 0 0 0 0 0 0 0 0 0 0 1 1 1 1 1 1 1 1 1 1 1 1 1 1 1 1 1 1 1 1 1 1 1 1\n",
            " 1 1 1 1 1 1 1 1 1 1 1 1 1 1 1 1 1 1 1 1 1 1 1 1 1 1]\n"
          ]
        }
      ],
      "source": [
        "# ubah nilai dari labels menjadi binary\n",
        "lb = LabelEncoder()\n",
        "labels = lb.fit_transform(labels)\n",
        "print(labels)"
      ]
    },
    {
      "cell_type": "markdown",
      "metadata": {
        "id": "z40CLwEiMOBi"
      },
      "source": [
        "<h3>4. Split Dataset</h3>"
      ]
    },
    {
      "cell_type": "code",
      "execution_count": 9,
      "metadata": {
        "id": "bQNYyT9gMOBi"
      },
      "outputs": [],
      "source": [
        "x_train, x_test, y_train, y_test = train_test_split(data, labels, test_size=0.2, random_state=42)"
      ]
    },
    {
      "cell_type": "code",
      "execution_count": 10,
      "metadata": {
        "colab": {
          "base_uri": "https://localhost:8080/"
        },
        "id": "WI4Tl09AMOBj",
        "outputId": "57743939-6966-4296-e0af-e8192ae10f9c"
      },
      "outputs": [
        {
          "output_type": "stream",
          "name": "stdout",
          "text": [
            "Ukuran data train = (80, 32, 32, 3)\n",
            "Ukuran data test = (20, 32, 32, 3)\n"
          ]
        }
      ],
      "source": [
        "print('Ukuran data train =', x_train.shape)\n",
        "print('Ukuran data test =', x_test.shape)"
      ]
    },
    {
      "cell_type": "markdown",
      "metadata": {
        "id": "XYBGEdRcMOBj"
      },
      "source": [
        "<h3>5. Build CNN Architecture</h3>"
      ]
    },
    {
      "cell_type": "code",
      "execution_count": 11,
      "metadata": {
        "id": "g3y1pNpkMOBj"
      },
      "outputs": [],
      "source": [
        "model = Sequential()\n",
        "# Extracted Feature Layer\n",
        "model.add(InputLayer(input_shape=[32,32,3]))\n",
        "model.add(Conv2D(filters=32, kernel_size=2, strides=1, padding='same', activation='relu'))\n",
        "model.add(MaxPool2D(pool_size=2, padding='same'))\n",
        "model.add(Conv2D(filters=50, kernel_size=2, strides=1, padding='same', activation='relu'))\n",
        "model.add(MaxPool2D(pool_size=2, padding='same'))\n",
        "model.add(Dropout(0.25))\n",
        "model.add(Flatten())\n",
        "# Fully Connected Layer\n",
        "model.add(Dense(512, activation='relu'))\n",
        "model.add(Dropout(0.5))\n",
        "model.add(Dense(1, activation='sigmoid'))"
      ]
    },
    {
      "cell_type": "code",
      "execution_count": 12,
      "metadata": {
        "colab": {
          "base_uri": "https://localhost:8080/"
        },
        "id": "IJO9h1-EMOBj",
        "outputId": "2a542aa9-0c72-44ee-c3bd-e193dd0bd14c"
      },
      "outputs": [
        {
          "output_type": "stream",
          "name": "stdout",
          "text": [
            "Model: \"sequential\"\n",
            "_________________________________________________________________\n",
            " Layer (type)                Output Shape              Param #   \n",
            "=================================================================\n",
            " conv2d (Conv2D)             (None, 32, 32, 32)        416       \n",
            "                                                                 \n",
            " max_pooling2d (MaxPooling2D  (None, 16, 16, 32)       0         \n",
            " )                                                               \n",
            "                                                                 \n",
            " conv2d_1 (Conv2D)           (None, 16, 16, 50)        6450      \n",
            "                                                                 \n",
            " max_pooling2d_1 (MaxPooling  (None, 8, 8, 50)         0         \n",
            " 2D)                                                             \n",
            "                                                                 \n",
            " dropout (Dropout)           (None, 8, 8, 50)          0         \n",
            "                                                                 \n",
            " flatten (Flatten)           (None, 3200)              0         \n",
            "                                                                 \n",
            " dense (Dense)               (None, 512)               1638912   \n",
            "                                                                 \n",
            " dropout_1 (Dropout)         (None, 512)               0         \n",
            "                                                                 \n",
            " dense_1 (Dense)             (None, 1)                 513       \n",
            "                                                                 \n",
            "=================================================================\n",
            "Total params: 1,646,291\n",
            "Trainable params: 1,646,291\n",
            "Non-trainable params: 0\n",
            "_________________________________________________________________\n"
          ]
        }
      ],
      "source": [
        "model.summary()"
      ]
    },
    {
      "cell_type": "code",
      "execution_count": 13,
      "metadata": {
        "id": "ymVEbWmfMOBk"
      },
      "outputs": [],
      "source": [
        "# tentukan hyperparameter\n",
        "lr = 0.001\n",
        "max_epochs = 100\n",
        "opt_funct = Adam(learning_rate=lr)"
      ]
    },
    {
      "cell_type": "code",
      "execution_count": 14,
      "metadata": {
        "id": "-hU12TIPMOBk"
      },
      "outputs": [],
      "source": [
        "# compile arsitektur yang telah dibuat\n",
        "model.compile(loss = 'binary_crossentropy', \n",
        "              optimizer = opt_funct, \n",
        "              metrics = ['accuracy'])"
      ]
    },
    {
      "cell_type": "markdown",
      "metadata": {
        "id": "O87Dm0OdMOBk"
      },
      "source": [
        "<h3>6. Train Model</h3>"
      ]
    },
    {
      "cell_type": "code",
      "execution_count": 15,
      "metadata": {
        "colab": {
          "base_uri": "https://localhost:8080/"
        },
        "id": "AGTOWon-MOBl",
        "outputId": "5468fe78-276a-4645-bf7c-23b7a9462ab3"
      },
      "outputs": [
        {
          "output_type": "stream",
          "name": "stdout",
          "text": [
            "Epoch 1/15\n",
            "3/3 [==============================] - 1s 150ms/step - loss: 0.6899 - accuracy: 0.5375 - val_loss: 0.8343 - val_accuracy: 0.4000\n",
            "Epoch 2/15\n",
            "3/3 [==============================] - 0s 59ms/step - loss: 0.6279 - accuracy: 0.6250 - val_loss: 0.4454 - val_accuracy: 0.9000\n",
            "Epoch 3/15\n",
            "3/3 [==============================] - 0s 58ms/step - loss: 0.4488 - accuracy: 0.9000 - val_loss: 0.4028 - val_accuracy: 0.9000\n",
            "Epoch 4/15\n",
            "3/3 [==============================] - 0s 54ms/step - loss: 0.3385 - accuracy: 0.9375 - val_loss: 0.2641 - val_accuracy: 1.0000\n",
            "Epoch 5/15\n",
            "3/3 [==============================] - 0s 56ms/step - loss: 0.3046 - accuracy: 0.9375 - val_loss: 0.2272 - val_accuracy: 0.9000\n",
            "Epoch 6/15\n",
            "3/3 [==============================] - 0s 55ms/step - loss: 0.1979 - accuracy: 0.9625 - val_loss: 0.1211 - val_accuracy: 1.0000\n",
            "Epoch 7/15\n",
            "3/3 [==============================] - 0s 56ms/step - loss: 0.1805 - accuracy: 0.9625 - val_loss: 0.1721 - val_accuracy: 0.9000\n",
            "Epoch 8/15\n",
            "3/3 [==============================] - 0s 52ms/step - loss: 0.1739 - accuracy: 0.9250 - val_loss: 0.1073 - val_accuracy: 1.0000\n",
            "Epoch 9/15\n",
            "3/3 [==============================] - 0s 58ms/step - loss: 0.1147 - accuracy: 0.9875 - val_loss: 0.0701 - val_accuracy: 1.0000\n",
            "Epoch 10/15\n",
            "3/3 [==============================] - 0s 55ms/step - loss: 0.0973 - accuracy: 0.9625 - val_loss: 0.0795 - val_accuracy: 1.0000\n",
            "Epoch 11/15\n",
            "3/3 [==============================] - 0s 53ms/step - loss: 0.0775 - accuracy: 0.9750 - val_loss: 0.0355 - val_accuracy: 1.0000\n",
            "Epoch 12/15\n",
            "3/3 [==============================] - 0s 60ms/step - loss: 0.0373 - accuracy: 1.0000 - val_loss: 0.0286 - val_accuracy: 1.0000\n",
            "Epoch 13/15\n",
            "3/3 [==============================] - 0s 53ms/step - loss: 0.0339 - accuracy: 1.0000 - val_loss: 0.0225 - val_accuracy: 1.0000\n",
            "Epoch 14/15\n",
            "3/3 [==============================] - 0s 68ms/step - loss: 0.0291 - accuracy: 1.0000 - val_loss: 0.0546 - val_accuracy: 1.0000\n",
            "Epoch 15/15\n",
            "3/3 [==============================] - 0s 54ms/step - loss: 0.0520 - accuracy: 0.9875 - val_loss: 0.0142 - val_accuracy: 1.0000\n"
          ]
        }
      ],
      "source": [
        "H = model.fit(x_train, y_train, validation_data=(x_test, y_test), \n",
        "          epochs=15, batch_size=32)"
      ]
    },
    {
      "cell_type": "code",
      "execution_count": 18,
      "metadata": {
        "colab": {
          "base_uri": "https://localhost:8080/",
          "height": 299
        },
        "id": "9GaBr4CJMOBl",
        "outputId": "11c174d1-fc88-40fe-a147-3982e6c2a82e"
      },
      "outputs": [
        {
          "output_type": "display_data",
          "data": {
            "image/png": "[encoded data removed]",
            "text/plain": [
              "<Figure size 432x288 with 1 Axes>"
            ]
          },
          "metadata": {}
        }
      ],
      "source": [
        "plt.style.use(\"ggplot\")\n",
        "plt.figure()\n",
        "plt.plot(np.arange(0, 15), H.history[\"loss\"], label=\"train_loss\")\n",
        "plt.plot(np.arange(0, 15), H.history[\"val_loss\"], label=\"val_loss\")\n",
        "plt.title(\"Loss Plot\")\n",
        "plt.xlabel(\"Epoch #\")\n",
        "plt.ylabel(\"Loss\")\n",
        "plt.legend()\n",
        "plt.show()"
      ]
    },
    {
      "cell_type": "markdown",
      "metadata": {
        "id": "CSpWZpOvMOBl"
      },
      "source": [
        "<h3>7. Evaluate the Model</h3>"
      ]
    },
    {
      "cell_type": "code",
      "execution_count": 19,
      "metadata": {
        "colab": {
          "base_uri": "https://localhost:8080/"
        },
        "id": "LnC1dwPAMOBm",
        "outputId": "1bfe0589-89fd-4407-87ed-bfedd204c0eb"
      },
      "outputs": [
        {
          "output_type": "stream",
          "name": "stdout",
          "text": [
            "              precision    recall  f1-score   support\n",
            "\n",
            "  Jambu Biji       1.00      1.00      1.00        12\n",
            "       Sirih       1.00      1.00      1.00         8\n",
            "\n",
            "    accuracy                           1.00        20\n",
            "   macro avg       1.00      1.00      1.00        20\n",
            "weighted avg       1.00      1.00      1.00        20\n",
            "\n"
          ]
        }
      ],
      "source": [
        "# menghitung nilai akurasi model terhadap data test\n",
        "predictions = model.predict(x_test, batch_size=32)\n",
        "target = (predictions > 0.5).astype(np.int)\n",
        "print(classification_report(y_test, target, target_names=label_list))"
      ]
    },
    {
      "cell_type": "code",
      "execution_count": 21,
      "metadata": {
        "colab": {
          "base_uri": "https://localhost:8080/"
        },
        "id": "YxzVdOtKMOBm",
        "outputId": "f4a9d20b-c746-4ff9-dfd9-80cacc5c6a4a"
      },
      "outputs": [
        {
          "output_type": "stream",
          "name": "stdout",
          "text": [
            "[[0.7388667]]\n"
          ]
        }
      ],
      "source": [
        "# uji model menggunakan image lain\n",
        "queryPath = imagePaths+'jambuBiji_query.jpg'\n",
        "query = cv2.imread(queryPath)\n",
        "output = query.copy()\n",
        "query = cv2.resize(query, (32, 32))\n",
        "q = []\n",
        "q.append(query)\n",
        "q = np.array(q, dtype='float') / 255.0\n",
        "\n",
        "q_pred = model.predict(q)\n",
        "print(q_pred)"
      ]
    },
    {
      "cell_type": "code",
      "execution_count": null,
      "metadata": {
        "id": "gRw-8tjdMOBm"
      },
      "outputs": [],
      "source": [
        "if q_pred<=0.5 :\n",
        "    target = \"Elephant\"\n",
        "else :\n",
        "    target = \"Lion\"\n",
        "text = \"{}\".format(target)\n",
        "cv2.putText(output, text, (10, 30), cv2.FONT_HERSHEY_SIMPLEX, 0.7, (0, 0, 255), 2)\n",
        " \n",
        "# menampilkan output image\n",
        "cv2.imshow('Output', output)\n",
        "cv2.waitKey() # image tidak akan diclose,sebelum user menekan sembarang tombol\n",
        "cv2.destroyWindow('Output') # image akan diclose"
      ]
    },
    {
      "cell_type": "code",
      "execution_count": 28,
      "metadata": {
        "id": "M_KFQcLZMOBn"
      },
      "outputs": [],
      "source": [
        "model.save('Daun_CNN.h5')"
      ]
    },
    {
      "cell_type": "code",
      "source": [
        ""
      ],
      "metadata": {
        "id": "i0c8XZA1R5W6"
      },
      "execution_count": null,
      "outputs": []
    }
  ],
  "metadata": {
    "kernelspec": {
      "display_name": "Python 3",
      "language": "python",
      "name": "python3"
    },
    "language_info": {
      "codemirror_mode": {
        "name": "ipython",
        "version": 3
      },
      "file_extension": ".py",
      "mimetype": "text/x-python",
      "name": "python",
      "nbconvert_exporter": "python",
      "pygments_lexer": "ipython3",
      "version": "3.8.5"
    },
    "colab": {
      "name": "Daun_CNN.ipynb",
      "provenance": [],
      "collapsed_sections": []
    }
  },
  "nbformat": 4,
  "nbformat_minor": 0
}