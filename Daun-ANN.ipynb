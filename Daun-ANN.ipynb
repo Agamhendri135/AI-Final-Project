{
  "nbformat": 4,
  "nbformat_minor": 0,
  "metadata": {
    "colab": {
      "name": "Daun_ANN.ipynb",
      "provenance": [],
      "collapsed_sections": []
    },
    "kernelspec": {
      "name": "python3",
      "display_name": "Python 3"
    },
    "language_info": {
      "name": "python"
    }
  },
  "cells": [
    {
      "cell_type": "code",
      "execution_count": 1,
      "metadata": {
        "id": "oaharp8z8cIh"
      },
      "outputs": [],
      "source": [
        "from sklearn.model_selection import train_test_split\n",
        "from sklearn.preprocessing import LabelEncoder\n",
        "from sklearn.metrics import classification_report\n",
        "from tensorflow.keras.models import Sequential\n",
        "from tensorflow.keras.layers import Flatten, Dense\n",
        "from tensorflow.keras.optimizers import SGD\n",
        "import numpy as np\n",
        "import cv2\n",
        "import glob\n",
        "import matplotlib.pyplot as plt"
      ]
    },
    {
      "cell_type": "code",
      "source": [
        "from google.colab import drive # untuk menghubungkan ke dalam drive \n",
        "drive.mount('/content/drive')"
      ],
      "metadata": {
        "colab": {
          "base_uri": "https://localhost:8080/"
        },
        "id": "FXo6aZDG8gSX",
        "outputId": "3d281e18-65a4-4708-f734-0152ec3d00c2"
      },
      "execution_count": 2,
      "outputs": [
        {
          "output_type": "stream",
          "name": "stdout",
          "text": [
            "Mounted at /content/drive\n"
          ]
        }
      ]
    },
    {
      "cell_type": "code",
      "source": [
        ""
      ],
      "metadata": {
        "colab": {
          "base_uri": "https://localhost:8080/"
        },
        "id": "YjqUtHq38qwN",
        "outputId": "c495729c-8f0d-4518-89f2-c1f128c61258"
      },
      "execution_count": 3,
      "outputs": [
        {
          "output_type": "stream",
          "name": "stdout",
          "text": [
            "\u001b[0m\u001b[01;34mdrive\u001b[0m/  \u001b[01;34msample_data\u001b[0m/\n"
          ]
        }
      ]
    },
    {
      "cell_type": "code",
      "source": [
        "imagePaths = 'drive/MyDrive/'\n",
        "label_list = ['Jambu Biji', 'Sirih']\n",
        "data = []\n",
        "labels = []"
      ],
      "metadata": {
        "id": "aX6xmAxV8eJh"
      },
      "execution_count": 8,
      "outputs": []
    },
    {
      "cell_type": "code",
      "source": [
        "for label in label_list:\n",
        "    for imagePath in glob.glob(imagePaths+label+'//*.jpeg'):\n",
        "        #print(imagePath)\n",
        "        image = cv2.imread(imagePath)\n",
        "        image = cv2.resize(image, (32, 32))\n",
        "        data.append(image)\n",
        "        labels.append(label)"
      ],
      "metadata": {
        "id": "AE-WaNPa811F"
      },
      "execution_count": 11,
      "outputs": []
    },
    {
      "cell_type": "code",
      "source": [
        "np.array(data).shape"
      ],
      "metadata": {
        "colab": {
          "base_uri": "https://localhost:8080/"
        },
        "id": "wmHoeUqp85Hs",
        "outputId": "3081f5d0-17b6-4477-b489-8271a2fde7e9"
      },
      "execution_count": 12,
      "outputs": [
        {
          "output_type": "execute_result",
          "data": {
            "text/plain": [
              "(100, 32, 32, 3)"
            ]
          },
          "metadata": {},
          "execution_count": 12
        }
      ]
    },
    {
      "cell_type": "code",
      "source": [
        "data = np.array(data, dtype='float') / 255.0\n",
        "labels = np.array(labels)"
      ],
      "metadata": {
        "id": "FZzQbu6N87yf"
      },
      "execution_count": 13,
      "outputs": []
    },
    {
      "cell_type": "code",
      "source": [
        "print(labels)"
      ],
      "metadata": {
        "colab": {
          "base_uri": "https://localhost:8080/"
        },
        "id": "0Hje6AFK9op1",
        "outputId": "5a5757bb-b400-4185-c262-9fd60ed5855a"
      },
      "execution_count": 14,
      "outputs": [
        {
          "output_type": "stream",
          "name": "stdout",
          "text": [
            "['Jambu Biji' 'Jambu Biji' 'Jambu Biji' 'Jambu Biji' 'Jambu Biji'\n",
            " 'Jambu Biji' 'Jambu Biji' 'Jambu Biji' 'Jambu Biji' 'Jambu Biji'\n",
            " 'Jambu Biji' 'Jambu Biji' 'Jambu Biji' 'Jambu Biji' 'Jambu Biji'\n",
            " 'Jambu Biji' 'Jambu Biji' 'Jambu Biji' 'Jambu Biji' 'Jambu Biji'\n",
            " 'Jambu Biji' 'Jambu Biji' 'Jambu Biji' 'Jambu Biji' 'Jambu Biji'\n",
            " 'Jambu Biji' 'Jambu Biji' 'Jambu Biji' 'Jambu Biji' 'Jambu Biji'\n",
            " 'Jambu Biji' 'Jambu Biji' 'Jambu Biji' 'Jambu Biji' 'Jambu Biji'\n",
            " 'Jambu Biji' 'Jambu Biji' 'Jambu Biji' 'Jambu Biji' 'Jambu Biji'\n",
            " 'Jambu Biji' 'Jambu Biji' 'Jambu Biji' 'Jambu Biji' 'Jambu Biji'\n",
            " 'Jambu Biji' 'Jambu Biji' 'Jambu Biji' 'Jambu Biji' 'Jambu Biji' 'Sirih'\n",
            " 'Sirih' 'Sirih' 'Sirih' 'Sirih' 'Sirih' 'Sirih' 'Sirih' 'Sirih' 'Sirih'\n",
            " 'Sirih' 'Sirih' 'Sirih' 'Sirih' 'Sirih' 'Sirih' 'Sirih' 'Sirih' 'Sirih'\n",
            " 'Sirih' 'Sirih' 'Sirih' 'Sirih' 'Sirih' 'Sirih' 'Sirih' 'Sirih' 'Sirih'\n",
            " 'Sirih' 'Sirih' 'Sirih' 'Sirih' 'Sirih' 'Sirih' 'Sirih' 'Sirih' 'Sirih'\n",
            " 'Sirih' 'Sirih' 'Sirih' 'Sirih' 'Sirih' 'Sirih' 'Sirih' 'Sirih' 'Sirih'\n",
            " 'Sirih' 'Sirih' 'Sirih' 'Sirih']\n"
          ]
        }
      ]
    },
    {
      "cell_type": "code",
      "source": [
        "lb = LabelEncoder()\n",
        "labels = lb.fit_transform(labels)\n",
        "print(labels)"
      ],
      "metadata": {
        "colab": {
          "base_uri": "https://localhost:8080/"
        },
        "id": "3F_NLPjD9qcd",
        "outputId": "eba61659-0f22-4f57-9e60-4f72c6b8651a"
      },
      "execution_count": 15,
      "outputs": [
        {
          "output_type": "stream",
          "name": "stdout",
          "text": [
            "[0 0 0 0 0 0 0 0 0 0 0 0 0 0 0 0 0 0 0 0 0 0 0 0 0 0 0 0 0 0 0 0 0 0 0 0 0\n",
            " 0 0 0 0 0 0 0 0 0 0 0 0 0 1 1 1 1 1 1 1 1 1 1 1 1 1 1 1 1 1 1 1 1 1 1 1 1\n",
            " 1 1 1 1 1 1 1 1 1 1 1 1 1 1 1 1 1 1 1 1 1 1 1 1 1 1]\n"
          ]
        }
      ]
    },
    {
      "cell_type": "code",
      "source": [
        "x_train, x_test, y_train, y_test = train_test_split(data, labels, test_size=0.2, random_state=42)"
      ],
      "metadata": {
        "id": "n9N8Zv179tOl"
      },
      "execution_count": 16,
      "outputs": []
    },
    {
      "cell_type": "code",
      "source": [
        "print('Ukuran data train =', x_train.shape)\n",
        "print('Ukuran data test =', x_test.shape)"
      ],
      "metadata": {
        "colab": {
          "base_uri": "https://localhost:8080/"
        },
        "id": "HRi_LLDM9u84",
        "outputId": "4156bb1e-e1ed-4aea-8a8e-85d586317b72"
      },
      "execution_count": 17,
      "outputs": [
        {
          "output_type": "stream",
          "name": "stdout",
          "text": [
            "Ukuran data train = (80, 32, 32, 3)\n",
            "Ukuran data test = (20, 32, 32, 3)\n"
          ]
        }
      ]
    },
    {
      "cell_type": "code",
      "source": [
        "model = Sequential()\n",
        "model.add(Flatten(input_shape=(32,32,3)))\n",
        "model.add(Dense(1024, activation=\"relu\"))\n",
        "model.add(Dense(1024, activation=\"relu\"))\n",
        "model.add(Dense(1, activation=\"sigmoid\"))"
      ],
      "metadata": {
        "id": "-1F4dAqY9xXL"
      },
      "execution_count": 18,
      "outputs": []
    },
    {
      "cell_type": "code",
      "source": [
        "model.summary()"
      ],
      "metadata": {
        "colab": {
          "base_uri": "https://localhost:8080/"
        },
        "id": "doUoWqEZ9zTy",
        "outputId": "51987e83-2b56-4691-c445-ba847f125e27"
      },
      "execution_count": 19,
      "outputs": [
        {
          "output_type": "stream",
          "name": "stdout",
          "text": [
            "Model: \"sequential\"\n",
            "_________________________________________________________________\n",
            " Layer (type)                Output Shape              Param #   \n",
            "=================================================================\n",
            " flatten (Flatten)           (None, 3072)              0         \n",
            "                                                                 \n",
            " dense (Dense)               (None, 1024)              3146752   \n",
            "                                                                 \n",
            " dense_1 (Dense)             (None, 1024)              1049600   \n",
            "                                                                 \n",
            " dense_2 (Dense)             (None, 1)                 1025      \n",
            "                                                                 \n",
            "=================================================================\n",
            "Total params: 4,197,377\n",
            "Trainable params: 4,197,377\n",
            "Non-trainable params: 0\n",
            "_________________________________________________________________\n"
          ]
        }
      ]
    },
    {
      "cell_type": "code",
      "source": [
        "# tentukan hyperparameter\n",
        "lr = 0.01\n",
        "max_epochs = 100\n",
        "opt_funct = SGD(learning_rate=lr)"
      ],
      "metadata": {
        "id": "o-yaLDxc90mR"
      },
      "execution_count": 20,
      "outputs": []
    },
    {
      "cell_type": "code",
      "source": [
        "model.compile(loss = 'binary_crossentropy', \n",
        "              optimizer = opt_funct, \n",
        "              metrics = ['accuracy'])"
      ],
      "metadata": {
        "id": "U43XxXhZ92xR"
      },
      "execution_count": 21,
      "outputs": []
    },
    {
      "cell_type": "code",
      "source": [
        "H = model.fit(x_train, y_train, validation_data=(x_test, y_test), \n",
        "          epochs=30, batch_size=32)"
      ],
      "metadata": {
        "colab": {
          "base_uri": "https://localhost:8080/"
        },
        "id": "6yIN_GJb941x",
        "outputId": "da4bb9c5-9231-413e-c27c-fb603ded8c9a"
      },
      "execution_count": 22,
      "outputs": [
        {
          "output_type": "stream",
          "name": "stdout",
          "text": [
            "Epoch 1/30\n",
            "3/3 [==============================] - 1s 117ms/step - loss: 0.7477 - accuracy: 0.4125 - val_loss: 1.0456 - val_accuracy: 0.4000\n",
            "Epoch 2/30\n",
            "3/3 [==============================] - 0s 31ms/step - loss: 0.8305 - accuracy: 0.4500 - val_loss: 0.5293 - val_accuracy: 0.8000\n",
            "Epoch 3/30\n",
            "3/3 [==============================] - 0s 30ms/step - loss: 0.5038 - accuracy: 0.8250 - val_loss: 0.4468 - val_accuracy: 0.9000\n",
            "Epoch 4/30\n",
            "3/3 [==============================] - 0s 32ms/step - loss: 0.4068 - accuracy: 0.9500 - val_loss: 0.4430 - val_accuracy: 0.8500\n",
            "Epoch 5/30\n",
            "3/3 [==============================] - 0s 32ms/step - loss: 0.3757 - accuracy: 0.9625 - val_loss: 0.4910 - val_accuracy: 0.7000\n",
            "Epoch 6/30\n",
            "3/3 [==============================] - 0s 32ms/step - loss: 0.3835 - accuracy: 0.8750 - val_loss: 0.3766 - val_accuracy: 0.8500\n",
            "Epoch 7/30\n",
            "3/3 [==============================] - 0s 30ms/step - loss: 0.3545 - accuracy: 0.8750 - val_loss: 0.3317 - val_accuracy: 0.9500\n",
            "Epoch 8/30\n",
            "3/3 [==============================] - 0s 30ms/step - loss: 0.2781 - accuracy: 0.9875 - val_loss: 0.3277 - val_accuracy: 0.9000\n",
            "Epoch 9/30\n",
            "3/3 [==============================] - 0s 29ms/step - loss: 0.2593 - accuracy: 0.9750 - val_loss: 0.3120 - val_accuracy: 0.9000\n",
            "Epoch 10/30\n",
            "3/3 [==============================] - 0s 33ms/step - loss: 0.2354 - accuracy: 0.9750 - val_loss: 0.2707 - val_accuracy: 1.0000\n",
            "Epoch 11/30\n",
            "3/3 [==============================] - 0s 32ms/step - loss: 0.2258 - accuracy: 0.9875 - val_loss: 0.2627 - val_accuracy: 0.9500\n",
            "Epoch 12/30\n",
            "3/3 [==============================] - 0s 34ms/step - loss: 0.2481 - accuracy: 0.9500 - val_loss: 0.2279 - val_accuracy: 1.0000\n",
            "Epoch 13/30\n",
            "3/3 [==============================] - 0s 32ms/step - loss: 0.2135 - accuracy: 0.9875 - val_loss: 0.4709 - val_accuracy: 0.7000\n",
            "Epoch 14/30\n",
            "3/3 [==============================] - 0s 31ms/step - loss: 0.2140 - accuracy: 0.9625 - val_loss: 0.2469 - val_accuracy: 0.9000\n",
            "Epoch 15/30\n",
            "3/3 [==============================] - 0s 29ms/step - loss: 0.1646 - accuracy: 0.9875 - val_loss: 0.1889 - val_accuracy: 1.0000\n",
            "Epoch 16/30\n",
            "3/3 [==============================] - 0s 34ms/step - loss: 0.1631 - accuracy: 0.9875 - val_loss: 0.1803 - val_accuracy: 1.0000\n",
            "Epoch 17/30\n",
            "3/3 [==============================] - 0s 30ms/step - loss: 0.1550 - accuracy: 0.9875 - val_loss: 0.1706 - val_accuracy: 1.0000\n",
            "Epoch 18/30\n",
            "3/3 [==============================] - 0s 29ms/step - loss: 0.1642 - accuracy: 0.9875 - val_loss: 0.2081 - val_accuracy: 0.9000\n",
            "Epoch 19/30\n",
            "3/3 [==============================] - 0s 31ms/step - loss: 0.1333 - accuracy: 1.0000 - val_loss: 0.1688 - val_accuracy: 1.0000\n",
            "Epoch 20/30\n",
            "3/3 [==============================] - 0s 30ms/step - loss: 0.1254 - accuracy: 1.0000 - val_loss: 0.1550 - val_accuracy: 1.0000\n",
            "Epoch 21/30\n",
            "3/3 [==============================] - 0s 32ms/step - loss: 0.1273 - accuracy: 1.0000 - val_loss: 0.1576 - val_accuracy: 1.0000\n",
            "Epoch 22/30\n",
            "3/3 [==============================] - 0s 31ms/step - loss: 0.1530 - accuracy: 0.9625 - val_loss: 0.1441 - val_accuracy: 1.0000\n",
            "Epoch 23/30\n",
            "3/3 [==============================] - 0s 33ms/step - loss: 0.1084 - accuracy: 1.0000 - val_loss: 0.1457 - val_accuracy: 1.0000\n",
            "Epoch 24/30\n",
            "3/3 [==============================] - 0s 31ms/step - loss: 0.1066 - accuracy: 0.9875 - val_loss: 0.1275 - val_accuracy: 1.0000\n",
            "Epoch 25/30\n",
            "3/3 [==============================] - 0s 32ms/step - loss: 0.1041 - accuracy: 1.0000 - val_loss: 0.1303 - val_accuracy: 1.0000\n",
            "Epoch 26/30\n",
            "3/3 [==============================] - 0s 30ms/step - loss: 0.0948 - accuracy: 1.0000 - val_loss: 0.1765 - val_accuracy: 0.9000\n",
            "Epoch 27/30\n",
            "3/3 [==============================] - 0s 35ms/step - loss: 0.0918 - accuracy: 1.0000 - val_loss: 0.1144 - val_accuracy: 1.0000\n",
            "Epoch 28/30\n",
            "3/3 [==============================] - 0s 30ms/step - loss: 0.0922 - accuracy: 1.0000 - val_loss: 0.1145 - val_accuracy: 1.0000\n",
            "Epoch 29/30\n",
            "3/3 [==============================] - 0s 29ms/step - loss: 0.0975 - accuracy: 1.0000 - val_loss: 0.1121 - val_accuracy: 1.0000\n",
            "Epoch 30/30\n",
            "3/3 [==============================] - 0s 28ms/step - loss: 0.0800 - accuracy: 1.0000 - val_loss: 0.1337 - val_accuracy: 1.0000\n"
          ]
        }
      ]
    },
    {
      "cell_type": "code",
      "source": [
        "plt.style.use(\"ggplot\")\n",
        "plt.figure()\n",
        "plt.plot(np.arange(0, 30), H.history[\"loss\"], label=\"train_loss\")\n",
        "plt.plot(np.arange(0, 30), H.history[\"val_loss\"], label=\"val_loss\")\n",
        "plt.title(\"Loss Plot\")\n",
        "plt.xlabel(\"Epoch #\")\n",
        "plt.ylabel(\"Loss\")\n",
        "plt.legend()\n",
        "plt.show()"
      ],
      "metadata": {
        "colab": {
          "base_uri": "https://localhost:8080/",
          "height": 299
        },
        "id": "G-HYc_t197XH",
        "outputId": "26a3d9d9-b999-4ed7-fe5d-87ea3a5d03f4"
      },
      "execution_count": 26,
      "outputs": [
        {
          "output_type": "display_data",
          "data": {
            "image/png": "[encoded data removed]",
            "text/plain": [
              "<Figure size 432x288 with 1 Axes>"
            ]
          },
          "metadata": {}
        }
      ]
    },
    {
      "cell_type": "code",
      "source": [
        "plt.style.use(\"ggplot\")\n",
        "plt.figure()\n",
        "plt.plot(np.arange(0, 30), H.history[\"accuracy\"], label=\"train_acc\")\n",
        "plt.plot(np.arange(0, 30), H.history[\"val_accuracy\"], label=\"val_acc\")\n",
        "plt.title(\"Accuracy Plot\")\n",
        "plt.xlabel(\"Epoch #\")\n",
        "plt.ylabel(\"Acc\")\n",
        "plt.legend()\n",
        "plt.show()"
      ],
      "metadata": {
        "colab": {
          "base_uri": "https://localhost:8080/",
          "height": 299
        },
        "id": "UlNPsLY_9_qh",
        "outputId": "d0077081-7854-434b-bf42-3c8d08c5aefe"
      },
      "execution_count": 28,
      "outputs": [
        {
          "output_type": "display_data",
          "data": {
            "image/png": "[encoded data removed]",
            "text/plain": [
              "<Figure size 432x288 with 1 Axes>"
            ]
          },
          "metadata": {}
        }
      ]
    },
    {
      "cell_type": "code",
      "source": [
        ""
      ],
      "metadata": {
        "id": "hkweoeA2-Rqg"
      },
      "execution_count": null,
      "outputs": []
    }
  ]
}